{
 "cells": [
  {
   "cell_type": "code",
   "execution_count": 1,
   "metadata": {
    "scrolled": true
   },
   "outputs": [],
   "source": [
    "import os\n",
    "import pandas as pd\n",
    "import numpy as np\n",
    "import matplotlib.pyplot as plt\n",
    "plt.rcParams['figure.figsize'] = (16,12)"
   ]
  },
  {
   "cell_type": "code",
   "execution_count": null,
   "metadata": {},
   "outputs": [],
   "source": [
    "import sys ; sys.path += ['../']\n",
    "\n",
    "from Pycode.Data_Aquisition import get_crypto_data\n",
    "from Pycode.Features_Engineering import *\n",
    "from Pycode.train_XGB import *"
   ]
  },
  {
   "cell_type": "markdown",
   "metadata": {},
   "source": [
    "**TABLE OF CONTENT**\n",
    "* [Data Pipeline](#data-bullet)\n",
    "* [XGBoost](#xgb_run-bullet)"
   ]
  },
  {
   "cell_type": "markdown",
   "metadata": {},
   "source": [
    "## Data Pipeline<a class=\"anchor\" id=\"data-bullet\"></a>"
   ]
  },
  {
   "cell_type": "code",
   "execution_count": null,
   "metadata": {
    "scrolled": true
   },
   "outputs": [
    {
     "name": "stdout",
     "output_type": "stream",
     "text": [
      "- EUR/BTC Prices from 1590890400 to 1598090400 \n",
      "- EUR/BTC Prices from 1583690400 to 1590890400 \n",
      "- EUR/BTC Prices from 1576490400 to 1583690400 \n",
      "- EUR/BTC Prices from 1569290400 to 1576490400 \n",
      "<class 'pandas.core.frame.DataFrame'>\n",
      "DatetimeIndex: 8000 entries, 2019-09-24 02:00:00 to 2020-08-22 10:00:00\n",
      "Data columns (total 6 columns):\n",
      "close         8000 non-null float64\n",
      "high          8000 non-null float64\n",
      "low           8000 non-null float64\n",
      "open          8000 non-null float64\n",
      "volumefrom    8000 non-null float64\n",
      "volumeto      8000 non-null float64\n",
      "dtypes: float64(6)\n",
      "memory usage: 437.5 KB\n",
      "<class 'pandas.core.frame.DataFrame'>\n",
      "DatetimeIndex: 8000 entries, 2019-09-24 02:00:00 to 2020-08-22 10:00:00\n",
      "Data columns (total 6 columns):\n",
      "close         8000 non-null float64\n",
      "high          8000 non-null float64\n",
      "low           8000 non-null float64\n",
      "open          8000 non-null float64\n",
      "volumefrom    8000 non-null float64\n",
      "volumeto      8000 non-null float64\n",
      "dtypes: float64(6)\n",
      "memory usage: 437.5 KB\n",
      "None\n",
      "<class 'pandas.core.frame.DataFrame'>\n",
      "DatetimeIndex: 8000 entries, 2019-09-24 02:00:00 to 2020-08-22 10:00:00\n",
      "Data columns (total 26 columns):\n",
      "volumefrom           8000 non-null float64\n",
      "volumeto             8000 non-null float64\n",
      "close_mov1H          7999 non-null float64\n",
      "high_mov1H           7999 non-null float64\n",
      "low_mov1H            7999 non-null float64\n",
      "open_mov1H           7999 non-null float64\n",
      "volumefrom_mov1H     7999 non-null float64\n",
      "volumeto_mov1H       7999 non-null float64\n",
      "close_mov6H          7994 non-null float64\n",
      "high_mov6H           7994 non-null float64\n",
      "low_mov6H            7994 non-null float64\n",
      "open_mov6H           7994 non-null float64\n",
      "volumefrom_mov6H     7994 non-null float64\n",
      "volumeto_mov6H       7994 non-null float64\n",
      "close_mov12H         7988 non-null float64\n",
      "high_mov12H          7988 non-null float64\n",
      "low_mov12H           7988 non-null float64\n",
      "open_mov12H          7988 non-null float64\n",
      "volumefrom_mov12H    7988 non-null float64\n",
      "volumeto_mov12H      7988 non-null float64\n",
      "close_mov24H         7976 non-null float64\n",
      "high_mov24H          7976 non-null float64\n",
      "low_mov24H           7976 non-null float64\n",
      "open_mov24H          7976 non-null float64\n",
      "volumefrom_mov24H    7976 non-null float64\n",
      "volumeto_mov24H      7976 non-null float64\n",
      "dtypes: float64(26)\n",
      "memory usage: 1.6 MB\n",
      "None\n"
     ]
    },
    {
     "name": "stderr",
     "output_type": "stream",
     "text": [
      "../Pycode/Features_Engineering.py:66: FutureWarning: Currently, 'apply' passes the values as ndarrays to the applied function. In the future, this will change to passing it as Series objects. You need to specify 'raw=True' to keep the current behaviour, and you can pass 'raw=False' to silence this warning\n",
      "  feats_df[col + '.M{}{}H'.format(l, i)] = series.rolling(\"{}H\".format(i)).apply(stat)\n",
      "../Pycode/Features_Engineering.py:67: FutureWarning: Currently, 'apply' passes the values as ndarrays to the applied function. In the future, this will change to passing it as Series objects. You need to specify 'raw=True' to keep the current behaviour, and you can pass 'raw=False' to silence this warning\n",
      "  feats_df[col + '.M{}{}H.diff'.format(l, i)] = series.rolling(\"{}H\".format(i)).apply(stat).diff()\n"
     ]
    },
    {
     "name": "stdout",
     "output_type": "stream",
     "text": [
      "<class 'pandas.core.frame.DataFrame'>\n",
      "DatetimeIndex: 8000 entries, 2019-09-24 02:00:00 to 2020-08-22 10:00:00\n",
      "Columns: 858 entries, volumefrom to volumeto_mov24H.MSum24H.diff\n",
      "dtypes: float64(858)\n",
      "memory usage: 52.4 MB\n",
      "None\n",
      "<class 'pandas.core.frame.DataFrame'>\n",
      "DatetimeIndex: 8000 entries, 2019-09-24 02:00:00 to 2020-08-22 10:00:00\n",
      "Columns: 1716 entries, volumefrom to volumeto_mov24H.MSum24H.diff.Squared\n",
      "dtypes: float64(1716)\n",
      "memory usage: 104.8 MB\n"
     ]
    }
   ],
   "source": [
    "# Params\n",
    "n_batch_obs=4\n",
    "currency = 'EUR'\n",
    "exchange = 'Coinbase'\n",
    "n_best = 400\n",
    "n_val=60\n",
    "\n",
    "# Get data from API\n",
    "df = get_crypto_data(n_batch_obs=n_batch_obs,  currency=currency, exchange=exchange)\n",
    "\n",
    "# Create the features dataset\n",
    "feats_df = features_engineering(df)\n",
    "\n",
    "# Create the target series\n",
    "target, class_weights = target_engineering(df)\n",
    "\n",
    "# Select Kbest features\n",
    "kbest_selector, kbest_df = features_selection(feats_df, target, n_best)\n",
    "\n",
    "\n",
    "# Prepare the data for XGB Trainng\n",
    "df_train_scaled, df_val_scaled, target_train, target_val = XGB_Data_Preparation(kbest_df, target, n_val=n_val)\n",
    "\n"
   ]
  },
  {
   "cell_type": "markdown",
   "metadata": {},
   "source": [
    "## Run the XGB pipeline<a class=\"anchor\" id=\"xgb_run-bullet\"></a>\n",
    "### Open to Close Trading Signal"
   ]
  },
  {
   "cell_type": "code",
   "execution_count": null,
   "metadata": {
    "scrolled": true
   },
   "outputs": [],
   "source": [
    "# params\n",
    "n_test = 200\n",
    "n_tune = 2 # number of combinations to try during tuning\n",
    "\n",
    "\n",
    "# Tuning for Close-Close Trading Signal\n",
    "tuning_df = XGB_Tuning_Pipeline(df_train_scaled, df_val_scaled, target_train, target_val,\n",
    "                                n_test=n_test, n_tune=n_tune)\n",
    "\n",
    "# Get best params\n",
    "best_params = tuning_df.iloc[0, 0]\n",
    "print('Best parameters: {}'.format(best_params))\n",
    "\n",
    "# Validation of the tuned model\n",
    "df_test, df_backtest = XGB_Eval_Pipeline(best_params, \n",
    "                                         df_train_scaled, df_val_scaled, target_train, target_val, \n",
    "                                         n_test=n_test, _plot=True)\n",
    "\n",
    "\n",
    "df_backtest"
   ]
  },
  {
   "cell_type": "code",
   "execution_count": null,
   "metadata": {},
   "outputs": [],
   "source": []
  }
 ],
 "metadata": {
  "kernelspec": {
   "display_name": "Python 3",
   "language": "python",
   "name": "python3"
  },
  "language_info": {
   "codemirror_mode": {
    "name": "ipython",
    "version": 3
   },
   "file_extension": ".py",
   "mimetype": "text/x-python",
   "name": "python",
   "nbconvert_exporter": "python",
   "pygments_lexer": "ipython3",
   "version": "3.7.3"
  }
 },
 "nbformat": 4,
 "nbformat_minor": 2
}
